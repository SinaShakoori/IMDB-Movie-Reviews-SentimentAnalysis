{
  "cells": [
    {
      "cell_type": "markdown",
      "metadata": {},
      "source": [
        "Dataset: https://www.kaggle.com/datasets/lakshmi25npathi/imdb-dataset-of-50k-movie-reviews"
      ]
    },
    {
      "cell_type": "code",
      "execution_count": 45,
      "metadata": {
        "id": "S-z7ah5HdhV4"
      },
      "outputs": [],
      "source": [
        "import os\n",
        "import nltk\n",
        "from nltk.corpus import stopwords\n",
        "from nltk import word_tokenize\n",
        "import random\n",
        "from string import punctuation\n",
        "import pandas as pd\n",
        "import numpy as np\n",
        "from tensorflow.keras.preprocessing.text import Tokenizer\n",
        "from tensorflow.keras.preprocessing.sequence import pad_sequences\n",
        "from tensorflow.keras.models import Model\n",
        "from tensorflow.keras.layers import Input,Dropout,MaxPool1D,Dense,Embedding,Flatten,concatenate,Conv1D\n",
        "import pickle\n",
        "from tensorflow.keras.utils import plot_model\n",
        "from sklearn.metrics import precision_score, recall_score, f1_score, confusion_matrix, classification_report\n",
        "import matplotlib.pyplot as plt\n",
        "import seaborn as sns"
      ]
    },
    {
      "cell_type": "code",
      "execution_count": 46,
      "metadata": {
        "colab": {
          "base_uri": "https://localhost:8080/"
        },
        "id": "1MSTBAQFPv7t",
        "outputId": "7f04da98-cdc1-43b7-f80d-dbb0e38a4961"
      },
      "outputs": [
        {
          "data": {
            "text/plain": [
              "(50000, 2)"
            ]
          },
          "execution_count": 46,
          "metadata": {},
          "output_type": "execute_result"
        }
      ],
      "source": [
        "df = pd.read_csv(\"IMDB Dataset.csv\")\n",
        "df.shape"
      ]
    },
    {
      "cell_type": "code",
      "execution_count": 47,
      "metadata": {
        "colab": {
          "base_uri": "https://localhost:8080/",
          "height": 178
        },
        "id": "IAGE_UWrPv7u",
        "outputId": "45498ea7-86e5-4561-e0cd-bac934e6fb42"
      },
      "outputs": [
        {
          "data": {
            "text/plain": [
              "sentiment\n",
              "positive    25000\n",
              "negative    25000\n",
              "Name: count, dtype: int64"
            ]
          },
          "execution_count": 47,
          "metadata": {},
          "output_type": "execute_result"
        }
      ],
      "source": [
        "df['sentiment'].value_counts()"
      ]
    },
    {
      "cell_type": "code",
      "execution_count": 48,
      "metadata": {
        "colab": {
          "base_uri": "https://localhost:8080/",
          "height": 206
        },
        "id": "oqPii2BuPv7u",
        "outputId": "47967f8c-4ccd-41f5-c8d3-da7ea1b3d104"
      },
      "outputs": [
        {
          "data": {
            "text/html": [
              "<div>\n",
              "<style scoped>\n",
              "    .dataframe tbody tr th:only-of-type {\n",
              "        vertical-align: middle;\n",
              "    }\n",
              "\n",
              "    .dataframe tbody tr th {\n",
              "        vertical-align: top;\n",
              "    }\n",
              "\n",
              "    .dataframe thead th {\n",
              "        text-align: right;\n",
              "    }\n",
              "</style>\n",
              "<table border=\"1\" class=\"dataframe\">\n",
              "  <thead>\n",
              "    <tr style=\"text-align: right;\">\n",
              "      <th></th>\n",
              "      <th>review</th>\n",
              "      <th>sentiment</th>\n",
              "    </tr>\n",
              "  </thead>\n",
              "  <tbody>\n",
              "    <tr>\n",
              "      <th>0</th>\n",
              "      <td>One of the other reviewers has mentioned that ...</td>\n",
              "      <td>positive</td>\n",
              "    </tr>\n",
              "    <tr>\n",
              "      <th>1</th>\n",
              "      <td>A wonderful little production. &lt;br /&gt;&lt;br /&gt;The...</td>\n",
              "      <td>positive</td>\n",
              "    </tr>\n",
              "    <tr>\n",
              "      <th>2</th>\n",
              "      <td>I thought this was a wonderful way to spend ti...</td>\n",
              "      <td>positive</td>\n",
              "    </tr>\n",
              "    <tr>\n",
              "      <th>3</th>\n",
              "      <td>Basically there's a family where a little boy ...</td>\n",
              "      <td>negative</td>\n",
              "    </tr>\n",
              "    <tr>\n",
              "      <th>4</th>\n",
              "      <td>Petter Mattei's \"Love in the Time of Money\" is...</td>\n",
              "      <td>positive</td>\n",
              "    </tr>\n",
              "  </tbody>\n",
              "</table>\n",
              "</div>"
            ],
            "text/plain": [
              "                                              review sentiment\n",
              "0  One of the other reviewers has mentioned that ...  positive\n",
              "1  A wonderful little production. <br /><br />The...  positive\n",
              "2  I thought this was a wonderful way to spend ti...  positive\n",
              "3  Basically there's a family where a little boy ...  negative\n",
              "4  Petter Mattei's \"Love in the Time of Money\" is...  positive"
            ]
          },
          "execution_count": 48,
          "metadata": {},
          "output_type": "execute_result"
        }
      ],
      "source": [
        "df.head()"
      ]
    },
    {
      "cell_type": "code",
      "execution_count": 49,
      "metadata": {
        "colab": {
          "base_uri": "https://localhost:8080/",
          "height": 35
        },
        "id": "6Psst1o-eVLQ",
        "outputId": "f2f75f33-5a6a-4fea-d452-cb7d8a6c4777"
      },
      "outputs": [
        {
          "data": {
            "text/plain": [
              "'!\"#$%&\\'()*+,-./:;<=>?@[\\\\]^_`{|}~'"
            ]
          },
          "execution_count": 49,
          "metadata": {},
          "output_type": "execute_result"
        }
      ],
      "source": [
        "punctuation"
      ]
    },
    {
      "cell_type": "code",
      "execution_count": 50,
      "metadata": {
        "colab": {
          "base_uri": "https://localhost:8080/",
          "height": 35
        },
        "id": "7dVOmlkefEIE",
        "outputId": "67496b61-44be-4bad-9cdb-c3bd2977a44f"
      },
      "outputs": [
        {
          "data": {
            "text/plain": [
              "'salam'"
            ]
          },
          "execution_count": 50,
          "metadata": {},
          "output_type": "execute_result"
        }
      ],
      "source": [
        "t=str.maketrans(\"\",\"\",punctuation)\n",
        "s=\"salam@\"\n",
        "s.translate(t)"
      ]
    },
    {
      "cell_type": "code",
      "execution_count": 51,
      "metadata": {
        "colab": {
          "base_uri": "https://localhost:8080/"
        },
        "id": "mYGNyq5if4Po",
        "outputId": "7ca0de4b-9c45-498b-a5d2-d8cf6b35161f"
      },
      "outputs": [
        {
          "name": "stderr",
          "output_type": "stream",
          "text": [
            "[nltk_data] Downloading package stopwords to C:\\Users\\Sina's\n",
            "[nltk_data]     Pc/nltk_data...\n",
            "[nltk_data]   Package stopwords is already up-to-date!\n"
          ]
        },
        {
          "data": {
            "text/plain": [
              "True"
            ]
          },
          "execution_count": 51,
          "metadata": {},
          "output_type": "execute_result"
        }
      ],
      "source": [
        "nltk.download('stopwords')"
      ]
    },
    {
      "cell_type": "code",
      "execution_count": 52,
      "metadata": {
        "id": "6IYPa0Q1fiu3"
      },
      "outputs": [],
      "source": [
        "stop_words=stopwords.words('english')"
      ]
    },
    {
      "cell_type": "code",
      "execution_count": 53,
      "metadata": {
        "colab": {
          "base_uri": "https://localhost:8080/"
        },
        "id": "j4MNMytRgYES",
        "outputId": "c4208460-08f4-4545-e588-65bc2bfc3e72"
      },
      "outputs": [
        {
          "data": {
            "text/plain": [
              "['a',\n",
              " 'about',\n",
              " 'above',\n",
              " 'after',\n",
              " 'again',\n",
              " 'against',\n",
              " 'ain',\n",
              " 'all',\n",
              " 'am',\n",
              " 'an',\n",
              " 'and',\n",
              " 'any',\n",
              " 'are',\n",
              " 'aren',\n",
              " \"aren't\",\n",
              " 'as',\n",
              " 'at',\n",
              " 'be',\n",
              " 'because',\n",
              " 'been',\n",
              " 'before',\n",
              " 'being',\n",
              " 'below',\n",
              " 'between',\n",
              " 'both',\n",
              " 'but',\n",
              " 'by',\n",
              " 'can',\n",
              " 'couldn',\n",
              " \"couldn't\",\n",
              " 'd',\n",
              " 'did',\n",
              " 'didn',\n",
              " \"didn't\",\n",
              " 'do',\n",
              " 'does',\n",
              " 'doesn',\n",
              " \"doesn't\",\n",
              " 'doing',\n",
              " 'don',\n",
              " \"don't\",\n",
              " 'down',\n",
              " 'during',\n",
              " 'each',\n",
              " 'few',\n",
              " 'for',\n",
              " 'from',\n",
              " 'further',\n",
              " 'had',\n",
              " 'hadn',\n",
              " \"hadn't\",\n",
              " 'has',\n",
              " 'hasn',\n",
              " \"hasn't\",\n",
              " 'have',\n",
              " 'haven',\n",
              " \"haven't\",\n",
              " 'having',\n",
              " 'he',\n",
              " \"he'd\",\n",
              " \"he'll\",\n",
              " 'her',\n",
              " 'here',\n",
              " 'hers',\n",
              " 'herself',\n",
              " \"he's\",\n",
              " 'him',\n",
              " 'himself',\n",
              " 'his',\n",
              " 'how',\n",
              " 'i',\n",
              " \"i'd\",\n",
              " 'if',\n",
              " \"i'll\",\n",
              " \"i'm\",\n",
              " 'in',\n",
              " 'into',\n",
              " 'is',\n",
              " 'isn',\n",
              " \"isn't\",\n",
              " 'it',\n",
              " \"it'd\",\n",
              " \"it'll\",\n",
              " \"it's\",\n",
              " 'its',\n",
              " 'itself',\n",
              " \"i've\",\n",
              " 'just',\n",
              " 'll',\n",
              " 'm',\n",
              " 'ma',\n",
              " 'me',\n",
              " 'mightn',\n",
              " \"mightn't\",\n",
              " 'more',\n",
              " 'most',\n",
              " 'mustn',\n",
              " \"mustn't\",\n",
              " 'my',\n",
              " 'myself',\n",
              " 'needn',\n",
              " \"needn't\",\n",
              " 'no',\n",
              " 'nor',\n",
              " 'not',\n",
              " 'now',\n",
              " 'o',\n",
              " 'of',\n",
              " 'off',\n",
              " 'on',\n",
              " 'once',\n",
              " 'only',\n",
              " 'or',\n",
              " 'other',\n",
              " 'our',\n",
              " 'ours',\n",
              " 'ourselves',\n",
              " 'out',\n",
              " 'over',\n",
              " 'own',\n",
              " 're',\n",
              " 's',\n",
              " 'same',\n",
              " 'shan',\n",
              " \"shan't\",\n",
              " 'she',\n",
              " \"she'd\",\n",
              " \"she'll\",\n",
              " \"she's\",\n",
              " 'should',\n",
              " 'shouldn',\n",
              " \"shouldn't\",\n",
              " \"should've\",\n",
              " 'so',\n",
              " 'some',\n",
              " 'such',\n",
              " 't',\n",
              " 'than',\n",
              " 'that',\n",
              " \"that'll\",\n",
              " 'the',\n",
              " 'their',\n",
              " 'theirs',\n",
              " 'them',\n",
              " 'themselves',\n",
              " 'then',\n",
              " 'there',\n",
              " 'these',\n",
              " 'they',\n",
              " \"they'd\",\n",
              " \"they'll\",\n",
              " \"they're\",\n",
              " \"they've\",\n",
              " 'this',\n",
              " 'those',\n",
              " 'through',\n",
              " 'to',\n",
              " 'too',\n",
              " 'under',\n",
              " 'until',\n",
              " 'up',\n",
              " 've',\n",
              " 'very',\n",
              " 'was',\n",
              " 'wasn',\n",
              " \"wasn't\",\n",
              " 'we',\n",
              " \"we'd\",\n",
              " \"we'll\",\n",
              " \"we're\",\n",
              " 'were',\n",
              " 'weren',\n",
              " \"weren't\",\n",
              " \"we've\",\n",
              " 'what',\n",
              " 'when',\n",
              " 'where',\n",
              " 'which',\n",
              " 'while',\n",
              " 'who',\n",
              " 'whom',\n",
              " 'why',\n",
              " 'will',\n",
              " 'with',\n",
              " 'won',\n",
              " \"won't\",\n",
              " 'wouldn',\n",
              " \"wouldn't\",\n",
              " 'y',\n",
              " 'you',\n",
              " \"you'd\",\n",
              " \"you'll\",\n",
              " 'your',\n",
              " \"you're\",\n",
              " 'yours',\n",
              " 'yourself',\n",
              " 'yourselves',\n",
              " \"you've\"]"
            ]
          },
          "execution_count": 53,
          "metadata": {},
          "output_type": "execute_result"
        }
      ],
      "source": [
        "stop_words"
      ]
    },
    {
      "cell_type": "code",
      "execution_count": 54,
      "metadata": {
        "colab": {
          "base_uri": "https://localhost:8080/"
        },
        "id": "n7OQ4z4vjEIk",
        "outputId": "e8972179-2aac-428a-9645-b553b0a538b6"
      },
      "outputs": [
        {
          "name": "stderr",
          "output_type": "stream",
          "text": [
            "[nltk_data] Downloading package punkt_tab to C:\\Users\\Sina's\n",
            "[nltk_data]     Pc/nltk_data...\n",
            "[nltk_data]   Package punkt_tab is already up-to-date!\n"
          ]
        },
        {
          "data": {
            "text/plain": [
              "True"
            ]
          },
          "execution_count": 54,
          "metadata": {},
          "output_type": "execute_result"
        }
      ],
      "source": [
        "nltk.download('punkt_tab')"
      ]
    },
    {
      "cell_type": "code",
      "execution_count": 55,
      "metadata": {
        "id": "vddZFwdmPv7w"
      },
      "outputs": [],
      "source": [
        "positive = []\n",
        "negative = []\n",
        "\n",
        "for index, row in df.iterrows():\n",
        "    if row['sentiment'] == 'positive':\n",
        "        positive.append(row)\n",
        "    elif row['sentiment'] == 'negative':\n",
        "        negative.append(row)"
      ]
    },
    {
      "cell_type": "code",
      "execution_count": 56,
      "metadata": {
        "colab": {
          "base_uri": "https://localhost:8080/"
        },
        "id": "YpL-5GVcPv7x",
        "outputId": "c8318454-7829-4bc0-8503-776f40c3db0d"
      },
      "outputs": [
        {
          "data": {
            "text/plain": [
              "25000"
            ]
          },
          "execution_count": 56,
          "metadata": {},
          "output_type": "execute_result"
        }
      ],
      "source": [
        "len(positive)"
      ]
    },
    {
      "cell_type": "code",
      "execution_count": 57,
      "metadata": {
        "colab": {
          "base_uri": "https://localhost:8080/",
          "height": 105
        },
        "id": "TCGY-MzhPv7x",
        "outputId": "cc9776e2-9c15-439b-9ac8-41f043ce7783"
      },
      "outputs": [
        {
          "data": {
            "text/plain": [
              "review       One of the other reviewers has mentioned that ...\n",
              "sentiment                                             positive\n",
              "Name: 0, dtype: object"
            ]
          },
          "execution_count": 57,
          "metadata": {},
          "output_type": "execute_result"
        }
      ],
      "source": [
        "positive[0]"
      ]
    },
    {
      "cell_type": "code",
      "execution_count": 58,
      "metadata": {
        "colab": {
          "base_uri": "https://localhost:8080/"
        },
        "id": "IxjJXh4PgZHP",
        "outputId": "cf7f49db-287f-4ad3-c76b-c1633f9d8b94"
      },
      "outputs": [
        {
          "name": "stderr",
          "output_type": "stream",
          "text": [
            "C:\\Users\\Sina's Pc\\AppData\\Local\\Temp\\ipykernel_10652\\1684628552.py:4: FutureWarning: Series.__getitem__ treating keys as positions is deprecated. In a future version, integer keys will always be treated as labels (consistent with DataFrame behavior). To access a value by position, use `ser.iloc[pos]`\n",
            "  ne=ne[0]\n"
          ]
        },
        {
          "name": "stdout",
          "output_type": "stream",
          "text": [
            "25000\n"
          ]
        }
      ],
      "source": [
        "negative_document=[]\n",
        "max_len_neg=0\n",
        "for ne in negative:\n",
        "    ne=ne[0]\n",
        "    tokens = word_tokenize(ne)\n",
        "    t=str.maketrans(\"\",\"\",punctuation)\n",
        "    tokens= [ w.translate(t) for w in tokens  ]\n",
        "    tokens= [ w for w in tokens if w not in stop_words ]\n",
        "    if len(tokens) > max_len_neg:\n",
        "      max_len_neg=len(tokens)\n",
        "\n",
        "    negative_document.append(\" \".join(tokens))\n",
        "\n",
        "print(len(negative_document))"
      ]
    },
    {
      "cell_type": "code",
      "execution_count": 59,
      "metadata": {
        "colab": {
          "base_uri": "https://localhost:8080/"
        },
        "id": "r90pT8A-jSL3",
        "outputId": "08d99991-ddaf-417c-93fc-c421aa1774f3"
      },
      "outputs": [
        {
          "name": "stderr",
          "output_type": "stream",
          "text": [
            "C:\\Users\\Sina's Pc\\AppData\\Local\\Temp\\ipykernel_10652\\3988056002.py:4: FutureWarning: Series.__getitem__ treating keys as positions is deprecated. In a future version, integer keys will always be treated as labels (consistent with DataFrame behavior). To access a value by position, use `ser.iloc[pos]`\n",
            "  pos=pos[0]\n"
          ]
        },
        {
          "name": "stdout",
          "output_type": "stream",
          "text": [
            "25000\n"
          ]
        }
      ],
      "source": [
        "positive_document=[]\n",
        "max_len_pos=0\n",
        "for pos in positive:\n",
        "    pos=pos[0]\n",
        "    tokens = word_tokenize(pos)\n",
        "    t=str.maketrans(\"\",\"\",punctuation)\n",
        "    tokens= [ w.translate(t) for w in tokens  ]\n",
        "    tokens= [ w for w in tokens if w not in stop_words ]\n",
        "    if len(tokens) > max_len_pos:\n",
        "      max_len_pos=len(tokens)\n",
        "\n",
        "    positive_document.append(\" \".join(tokens))\n",
        "\n",
        "print(len(positive_document))"
      ]
    },
    {
      "cell_type": "code",
      "execution_count": 60,
      "metadata": {
        "colab": {
          "base_uri": "https://localhost:8080/",
          "height": 70
        },
        "id": "HjGrzjMcjfvg",
        "outputId": "9744ec05-71b2-4cd3-d4f7-2db3997c9f4b"
      },
      "outputs": [
        {
          "data": {
            "text/plain": [
              "'One reviewers mentioned watching 1 Oz episode hooked  They right  exactly happened  br    br   The first thing struck Oz brutality unflinching scenes violence  set right word GO  Trust  show faint hearted timid  This show pulls punches regards drugs  sex violence  Its hardcore  classic use word  br    br   It called OZ nickname given Oswald Maximum Security State Penitentary  It focuses mainly Emerald City  experimental section prison cells glass fronts face inwards  privacy high agenda  Em City home many  Aryans  Muslims  gangstas  Latinos  Christians  Italians  Irish  scuffles  death stares  dodgy dealings shady agreements never far away  br    br   I would say main appeal show due fact goes shows would nt dare  Forget pretty pictures painted mainstream audiences  forget charm  forget romance  OZ nt mess around  The first episode I ever saw struck nasty surreal  I could nt say I ready  I watched  I developed taste Oz  got accustomed high levels graphic violence  Not violence  injustice  crooked guards sold nickel  inmates kill order get away  well mannered  middle class inmates turned prison bitches due lack street skills prison experience  Watching Oz  may become comfortable uncomfortable viewing  thats get touch darker side '"
            ]
          },
          "execution_count": 60,
          "metadata": {},
          "output_type": "execute_result"
        }
      ],
      "source": [
        "positive_document[0]"
      ]
    },
    {
      "cell_type": "code",
      "execution_count": 61,
      "metadata": {
        "id": "HNBlZPBnjhcp"
      },
      "outputs": [],
      "source": [
        "max_len=max(max_len_neg,max_len_pos)"
      ]
    },
    {
      "cell_type": "code",
      "execution_count": 62,
      "metadata": {
        "id": "dDafBH3MkFgi"
      },
      "outputs": [],
      "source": [
        "random.shuffle(positive_document)\n",
        "random.shuffle(negative_document)"
      ]
    },
    {
      "cell_type": "code",
      "execution_count": 63,
      "metadata": {
        "colab": {
          "base_uri": "https://localhost:8080/"
        },
        "id": "ealsPBxQkZjQ",
        "outputId": "f8a4c2c4-899f-49b4-c173-540abb215aad"
      },
      "outputs": [
        {
          "data": {
            "text/plain": [
              "40000"
            ]
          },
          "execution_count": 63,
          "metadata": {},
          "output_type": "execute_result"
        }
      ],
      "source": [
        "train_data=negative_document[:20000]+positive_document[:20000]\n",
        "len(train_data)"
      ]
    },
    {
      "cell_type": "code",
      "execution_count": 64,
      "metadata": {
        "id": "nJl_hxTjknxO"
      },
      "outputs": [],
      "source": [
        "train_y = [0 for i in range(20000)]+[1 for i in range(20000)]"
      ]
    },
    {
      "cell_type": "code",
      "execution_count": 65,
      "metadata": {
        "colab": {
          "base_uri": "https://localhost:8080/"
        },
        "id": "vPvw9jwSk9rk",
        "outputId": "134da1e8-4583-47c8-c92c-0141035590e0"
      },
      "outputs": [
        {
          "data": {
            "text/plain": [
              "40000"
            ]
          },
          "execution_count": 65,
          "metadata": {},
          "output_type": "execute_result"
        }
      ],
      "source": [
        "len(train_y)"
      ]
    },
    {
      "cell_type": "code",
      "execution_count": 66,
      "metadata": {
        "colab": {
          "base_uri": "https://localhost:8080/"
        },
        "id": "t-oFxfoLlAzL",
        "outputId": "3ade4df8-1f72-41dc-d9b0-abdde6a0bbdb"
      },
      "outputs": [
        {
          "data": {
            "text/plain": [
              "10000"
            ]
          },
          "execution_count": 66,
          "metadata": {},
          "output_type": "execute_result"
        }
      ],
      "source": [
        "test_data=negative_document[20000:]+positive_document[20000:]\n",
        "len(test_data)"
      ]
    },
    {
      "cell_type": "code",
      "execution_count": 67,
      "metadata": {
        "id": "irZmf03DlOX1"
      },
      "outputs": [],
      "source": [
        "test_y = [0 for i in range(5000)]+[1 for i in range(5000)]"
      ]
    },
    {
      "cell_type": "code",
      "execution_count": 68,
      "metadata": {
        "id": "bsYjpmvYmwnw"
      },
      "outputs": [],
      "source": [
        "tokenizer=Tokenizer()\n",
        "tokenizer.fit_on_texts(train_data)"
      ]
    },
    {
      "cell_type": "code",
      "execution_count": 69,
      "metadata": {
        "id": "SRXXkaaaozep"
      },
      "outputs": [],
      "source": [
        "with open(\"tokenizer.h5\",mode=\"wb\") as f:\n",
        "  pickle.dump(tokenizer,f)"
      ]
    },
    {
      "cell_type": "code",
      "execution_count": 70,
      "metadata": {
        "id": "BBcoJJ6epG5o"
      },
      "outputs": [],
      "source": [
        "encode = tokenizer.texts_to_sequences(train_data)"
      ]
    },
    {
      "cell_type": "code",
      "execution_count": 71,
      "metadata": {
        "colab": {
          "base_uri": "https://localhost:8080/"
        },
        "id": "eH0iphlmF033",
        "outputId": "af857e68-6471-44b0-a628-3e332768e4a9"
      },
      "outputs": [
        {
          "data": {
            "text/plain": [
              "[2,\n",
              " 343,\n",
              " 26,\n",
              " 46,\n",
              " 7439,\n",
              " 2,\n",
              " 47,\n",
              " 611,\n",
              " 2,\n",
              " 43,\n",
              " 31,\n",
              " 2,\n",
              " 43,\n",
              " 16,\n",
              " 2,\n",
              " 97,\n",
              " 6,\n",
              " 60,\n",
              " 139,\n",
              " 8,\n",
              " 3,\n",
              " 46,\n",
              " 7439,\n",
              " 1386,\n",
              " 911,\n",
              " 1609,\n",
              " 9,\n",
              " 281,\n",
              " 179,\n",
              " 278,\n",
              " 16,\n",
              " 3,\n",
              " 44,\n",
              " 9975,\n",
              " 858,\n",
              " 26,\n",
              " 4,\n",
              " 5468,\n",
              " 1044,\n",
              " 462,\n",
              " 7748,\n",
              " 7912,\n",
              " 372,\n",
              " 339,\n",
              " 1289,\n",
              " 461,\n",
              " 6791,\n",
              " 1408,\n",
              " 303,\n",
              " 397,\n",
              " 339,\n",
              " 1609,\n",
              " 7912,\n",
              " 8541,\n",
              " 10759,\n",
              " 6791,\n",
              " 8541,\n",
              " 10759,\n",
              " 675,\n",
              " 10131,\n",
              " 10759,\n",
              " 675,\n",
              " 157,\n",
              " 155,\n",
              " 288,\n",
              " 1240,\n",
              " 571,\n",
              " 858,\n",
              " 26,\n",
              " 4,\n",
              " 30,\n",
              " 44,\n",
              " 367,\n",
              " 1311,\n",
              " 2609,\n",
              " 979,\n",
              " 26,\n",
              " 4,\n",
              " 381,\n",
              " 31,\n",
              " 385,\n",
              " 7912,\n",
              " 107,\n",
              " 494,\n",
              " 251,\n",
              " 1055,\n",
              " 13623,\n",
              " 12569,\n",
              " 2001,\n",
              " 557,\n",
              " 343,\n",
              " 26,\n",
              " 4,\n",
              " 2254,\n",
              " 1488,\n",
              " 322,\n",
              " 9085,\n",
              " 737,\n",
              " 1035,\n",
              " 481,\n",
              " 6,\n",
              " 490,\n",
              " 250,\n",
              " 589,\n",
              " 250,\n",
              " 17484,\n",
              " 11674,\n",
              " 83,\n",
              " 855,\n",
              " 611,\n",
              " 281,\n",
              " 541,\n",
              " 877,\n",
              " 191,\n",
              " 2133,\n",
              " 1990,\n",
              " 377,\n",
              " 6,\n",
              " 83,\n",
              " 1488,\n",
              " 26,\n",
              " 4,\n",
              " 8,\n",
              " 859,\n",
              " 16548,\n",
              " 728,\n",
              " 82,\n",
              " 481,\n",
              " 311,\n",
              " 27,\n",
              " 13,\n",
              " 8636,\n",
              " 282,\n",
              " 308,\n",
              " 97,\n",
              " 6,\n",
              " 209,\n",
              " 4573,\n",
              " 7912,\n",
              " 380,\n",
              " 1173,\n",
              " 7,\n",
              " 40,\n",
              " 341,\n",
              " 7261,\n",
              " 60,\n",
              " 5635,\n",
              " 2908,\n",
              " 63459,\n",
              " 26,\n",
              " 4,\n",
              " 6915,\n",
              " 16110,\n",
              " 46,\n",
              " 19906,\n",
              " 458,\n",
              " 181,\n",
              " 61,\n",
              " 25,\n",
              " 11,\n",
              " 611,\n",
              " 4,\n",
              " 98,\n",
              " 124,\n",
              " 740,\n",
              " 3174,\n",
              " 4466,\n",
              " 1035,\n",
              " 949,\n",
              " 4924,\n",
              " 1609,\n",
              " 2441,\n",
              " 153,\n",
              " 26,\n",
              " 4,\n",
              " 519,\n",
              " 525,\n",
              " 15723,\n",
              " 112,\n",
              " 2503,\n",
              " 61,\n",
              " 912,\n",
              " 1439,\n",
              " 481,\n",
              " 281,\n",
              " 263,\n",
              " 668,\n",
              " 313,\n",
              " 542,\n",
              " 10131,\n",
              " 154,\n",
              " 628,\n",
              " 10759,\n",
              " 675,\n",
              " 1060,\n",
              " 313,\n",
              " 116,\n",
              " 1468,\n",
              " 10759,\n",
              " 146,\n",
              " 2333,\n",
              " 21,\n",
              " 607,\n",
              " 19229,\n",
              " 23423,\n",
              " 333,\n",
              " 82,\n",
              " 10760,\n",
              " 1609,\n",
              " 358,\n",
              " 976,\n",
              " 449,\n",
              " 1353,\n",
              " 915,\n",
              " 638,\n",
              " 247,\n",
              " 10759,\n",
              " 4965,\n",
              " 915,\n",
              " 154,\n",
              " 37680,\n",
              " 889,\n",
              " 7681,\n",
              " 1173,\n",
              " 3864,\n",
              " 63460,\n",
              " 7912,\n",
              " 1990,\n",
              " 461,\n",
              " 2865,\n",
              " 303,\n",
              " 924,\n",
              " 7912,\n",
              " 97,\n",
              " 6,\n",
              " 1929,\n",
              " 737,\n",
              " 481,\n",
              " 536,\n",
              " 260,\n",
              " 19907,\n",
              " 5968,\n",
              " 15,\n",
              " 73,\n",
              " 1391,\n",
              " 526,\n",
              " 7912,\n",
              " 7748,\n",
              " 1391,\n",
              " 1792,\n",
              " 7,\n",
              " 249,\n",
              " 6,\n",
              " 35,\n",
              " 859,\n",
              " 647,\n",
              " 462,\n",
              " 3059,\n",
              " 607,\n",
              " 191,\n",
              " 10,\n",
              " 4,\n",
              " 8252,\n",
              " 270,\n",
              " 376,\n",
              " 2209,\n",
              " 1651,\n",
              " 2,\n",
              " 79,\n",
              " 65,\n",
              " 4,\n",
              " 349]"
            ]
          },
          "execution_count": 71,
          "metadata": {},
          "output_type": "execute_result"
        }
      ],
      "source": [
        "encode[0]"
      ]
    },
    {
      "cell_type": "code",
      "execution_count": 72,
      "metadata": {
        "id": "0JzF_-tAF2py"
      },
      "outputs": [],
      "source": [
        "padded = pad_sequences(encode,max_len,padding=\"post\")"
      ]
    },
    {
      "cell_type": "code",
      "execution_count": 73,
      "metadata": {
        "colab": {
          "base_uri": "https://localhost:8080/"
        },
        "id": "rn4xceN9HTJA",
        "outputId": "e684023d-088e-42bc-8ccb-a06cf8aeb8da"
      },
      "outputs": [
        {
          "data": {
            "text/plain": [
              "(40000, 1824)"
            ]
          },
          "execution_count": 73,
          "metadata": {},
          "output_type": "execute_result"
        }
      ],
      "source": [
        "padded.shape"
      ]
    },
    {
      "cell_type": "code",
      "execution_count": 74,
      "metadata": {
        "id": "xqW3dvF_IR9N"
      },
      "outputs": [],
      "source": [
        "vocab_len = len(tokenizer.word_index)+1"
      ]
    },
    {
      "cell_type": "code",
      "execution_count": 75,
      "metadata": {
        "id": "VXIEJzqbHWZ8"
      },
      "outputs": [],
      "source": [
        "input1 = Input(shape=(max_len,))\n",
        "embeding1 = Embedding(vocab_len,100)(input1)\n",
        "conv1 = Conv1D(filters=128,kernel_size=3,activation='relu')(embeding1)\n",
        "drop1= Dropout(0.3)(conv1)\n",
        "pool1=MaxPool1D(pool_size=2)(drop1)\n",
        "flat1=Flatten()(pool1)\n",
        "dense1=Dense(10,activation='relu')(flat1)\n",
        "output=Dense(1,activation='sigmoid')(dense1)"
      ]
    },
    {
      "cell_type": "code",
      "execution_count": 76,
      "metadata": {
        "id": "2nBB_GIsNLwx"
      },
      "outputs": [],
      "source": [
        "model = Model(inputs=[input1],outputs=output)"
      ]
    },
    {
      "cell_type": "code",
      "execution_count": 77,
      "metadata": {
        "id": "kSbn8PIhNilJ"
      },
      "outputs": [],
      "source": [
        "model.compile(loss='binary_crossentropy',optimizer='adam',metrics=['accuracy'])"
      ]
    },
    {
      "cell_type": "code",
      "execution_count": 78,
      "metadata": {
        "colab": {
          "base_uri": "https://localhost:8080/",
          "height": 408
        },
        "id": "p0MWj-B5OMnQ",
        "outputId": "849c2d70-fd57-4bb6-f86d-e35f3d4e9ea2"
      },
      "outputs": [
        {
          "data": {
            "text/html": [
              "<pre style=\"white-space:pre;overflow-x:auto;line-height:normal;font-family:Menlo,'DejaVu Sans Mono',consolas,'Courier New',monospace\"><span style=\"font-weight: bold\">Model: \"functional_1\"</span>\n",
              "</pre>\n"
            ],
            "text/plain": [
              "\u001b[1mModel: \"functional_1\"\u001b[0m\n"
            ]
          },
          "metadata": {},
          "output_type": "display_data"
        },
        {
          "data": {
            "text/html": [
              "<pre style=\"white-space:pre;overflow-x:auto;line-height:normal;font-family:Menlo,'DejaVu Sans Mono',consolas,'Courier New',monospace\">┏━━━━━━━━━━━━━━━━━━━━━━━━━━━━━━━━━┳━━━━━━━━━━━━━━━━━━━━━━━━┳━━━━━━━━━━━━━━━┓\n",
              "┃<span style=\"font-weight: bold\"> Layer (type)                    </span>┃<span style=\"font-weight: bold\"> Output Shape           </span>┃<span style=\"font-weight: bold\">       Param # </span>┃\n",
              "┡━━━━━━━━━━━━━━━━━━━━━━━━━━━━━━━━━╇━━━━━━━━━━━━━━━━━━━━━━━━╇━━━━━━━━━━━━━━━┩\n",
              "│ input_layer_1 (<span style=\"color: #0087ff; text-decoration-color: #0087ff\">InputLayer</span>)      │ (<span style=\"color: #00d7ff; text-decoration-color: #00d7ff\">None</span>, <span style=\"color: #00af00; text-decoration-color: #00af00\">1824</span>)           │             <span style=\"color: #00af00; text-decoration-color: #00af00\">0</span> │\n",
              "├─────────────────────────────────┼────────────────────────┼───────────────┤\n",
              "│ embedding_1 (<span style=\"color: #0087ff; text-decoration-color: #0087ff\">Embedding</span>)         │ (<span style=\"color: #00d7ff; text-decoration-color: #00d7ff\">None</span>, <span style=\"color: #00af00; text-decoration-color: #00af00\">1824</span>, <span style=\"color: #00af00; text-decoration-color: #00af00\">100</span>)      │    <span style=\"color: #00af00; text-decoration-color: #00af00\">12,324,500</span> │\n",
              "├─────────────────────────────────┼────────────────────────┼───────────────┤\n",
              "│ conv1d_1 (<span style=\"color: #0087ff; text-decoration-color: #0087ff\">Conv1D</span>)               │ (<span style=\"color: #00d7ff; text-decoration-color: #00d7ff\">None</span>, <span style=\"color: #00af00; text-decoration-color: #00af00\">1822</span>, <span style=\"color: #00af00; text-decoration-color: #00af00\">128</span>)      │        <span style=\"color: #00af00; text-decoration-color: #00af00\">38,528</span> │\n",
              "├─────────────────────────────────┼────────────────────────┼───────────────┤\n",
              "│ dropout_1 (<span style=\"color: #0087ff; text-decoration-color: #0087ff\">Dropout</span>)             │ (<span style=\"color: #00d7ff; text-decoration-color: #00d7ff\">None</span>, <span style=\"color: #00af00; text-decoration-color: #00af00\">1822</span>, <span style=\"color: #00af00; text-decoration-color: #00af00\">128</span>)      │             <span style=\"color: #00af00; text-decoration-color: #00af00\">0</span> │\n",
              "├─────────────────────────────────┼────────────────────────┼───────────────┤\n",
              "│ max_pooling1d_1 (<span style=\"color: #0087ff; text-decoration-color: #0087ff\">MaxPooling1D</span>)  │ (<span style=\"color: #00d7ff; text-decoration-color: #00d7ff\">None</span>, <span style=\"color: #00af00; text-decoration-color: #00af00\">911</span>, <span style=\"color: #00af00; text-decoration-color: #00af00\">128</span>)       │             <span style=\"color: #00af00; text-decoration-color: #00af00\">0</span> │\n",
              "├─────────────────────────────────┼────────────────────────┼───────────────┤\n",
              "│ flatten_1 (<span style=\"color: #0087ff; text-decoration-color: #0087ff\">Flatten</span>)             │ (<span style=\"color: #00d7ff; text-decoration-color: #00d7ff\">None</span>, <span style=\"color: #00af00; text-decoration-color: #00af00\">116608</span>)         │             <span style=\"color: #00af00; text-decoration-color: #00af00\">0</span> │\n",
              "├─────────────────────────────────┼────────────────────────┼───────────────┤\n",
              "│ dense_2 (<span style=\"color: #0087ff; text-decoration-color: #0087ff\">Dense</span>)                 │ (<span style=\"color: #00d7ff; text-decoration-color: #00d7ff\">None</span>, <span style=\"color: #00af00; text-decoration-color: #00af00\">10</span>)             │     <span style=\"color: #00af00; text-decoration-color: #00af00\">1,166,090</span> │\n",
              "├─────────────────────────────────┼────────────────────────┼───────────────┤\n",
              "│ dense_3 (<span style=\"color: #0087ff; text-decoration-color: #0087ff\">Dense</span>)                 │ (<span style=\"color: #00d7ff; text-decoration-color: #00d7ff\">None</span>, <span style=\"color: #00af00; text-decoration-color: #00af00\">1</span>)              │            <span style=\"color: #00af00; text-decoration-color: #00af00\">11</span> │\n",
              "└─────────────────────────────────┴────────────────────────┴───────────────┘\n",
              "</pre>\n"
            ],
            "text/plain": [
              "┏━━━━━━━━━━━━━━━━━━━━━━━━━━━━━━━━━┳━━━━━━━━━━━━━━━━━━━━━━━━┳━━━━━━━━━━━━━━━┓\n",
              "┃\u001b[1m \u001b[0m\u001b[1mLayer (type)                   \u001b[0m\u001b[1m \u001b[0m┃\u001b[1m \u001b[0m\u001b[1mOutput Shape          \u001b[0m\u001b[1m \u001b[0m┃\u001b[1m \u001b[0m\u001b[1m      Param #\u001b[0m\u001b[1m \u001b[0m┃\n",
              "┡━━━━━━━━━━━━━━━━━━━━━━━━━━━━━━━━━╇━━━━━━━━━━━━━━━━━━━━━━━━╇━━━━━━━━━━━━━━━┩\n",
              "│ input_layer_1 (\u001b[38;5;33mInputLayer\u001b[0m)      │ (\u001b[38;5;45mNone\u001b[0m, \u001b[38;5;34m1824\u001b[0m)           │             \u001b[38;5;34m0\u001b[0m │\n",
              "├─────────────────────────────────┼────────────────────────┼───────────────┤\n",
              "│ embedding_1 (\u001b[38;5;33mEmbedding\u001b[0m)         │ (\u001b[38;5;45mNone\u001b[0m, \u001b[38;5;34m1824\u001b[0m, \u001b[38;5;34m100\u001b[0m)      │    \u001b[38;5;34m12,324,500\u001b[0m │\n",
              "├─────────────────────────────────┼────────────────────────┼───────────────┤\n",
              "│ conv1d_1 (\u001b[38;5;33mConv1D\u001b[0m)               │ (\u001b[38;5;45mNone\u001b[0m, \u001b[38;5;34m1822\u001b[0m, \u001b[38;5;34m128\u001b[0m)      │        \u001b[38;5;34m38,528\u001b[0m │\n",
              "├─────────────────────────────────┼────────────────────────┼───────────────┤\n",
              "│ dropout_1 (\u001b[38;5;33mDropout\u001b[0m)             │ (\u001b[38;5;45mNone\u001b[0m, \u001b[38;5;34m1822\u001b[0m, \u001b[38;5;34m128\u001b[0m)      │             \u001b[38;5;34m0\u001b[0m │\n",
              "├─────────────────────────────────┼────────────────────────┼───────────────┤\n",
              "│ max_pooling1d_1 (\u001b[38;5;33mMaxPooling1D\u001b[0m)  │ (\u001b[38;5;45mNone\u001b[0m, \u001b[38;5;34m911\u001b[0m, \u001b[38;5;34m128\u001b[0m)       │             \u001b[38;5;34m0\u001b[0m │\n",
              "├─────────────────────────────────┼────────────────────────┼───────────────┤\n",
              "│ flatten_1 (\u001b[38;5;33mFlatten\u001b[0m)             │ (\u001b[38;5;45mNone\u001b[0m, \u001b[38;5;34m116608\u001b[0m)         │             \u001b[38;5;34m0\u001b[0m │\n",
              "├─────────────────────────────────┼────────────────────────┼───────────────┤\n",
              "│ dense_2 (\u001b[38;5;33mDense\u001b[0m)                 │ (\u001b[38;5;45mNone\u001b[0m, \u001b[38;5;34m10\u001b[0m)             │     \u001b[38;5;34m1,166,090\u001b[0m │\n",
              "├─────────────────────────────────┼────────────────────────┼───────────────┤\n",
              "│ dense_3 (\u001b[38;5;33mDense\u001b[0m)                 │ (\u001b[38;5;45mNone\u001b[0m, \u001b[38;5;34m1\u001b[0m)              │            \u001b[38;5;34m11\u001b[0m │\n",
              "└─────────────────────────────────┴────────────────────────┴───────────────┘\n"
            ]
          },
          "metadata": {},
          "output_type": "display_data"
        },
        {
          "data": {
            "text/html": [
              "<pre style=\"white-space:pre;overflow-x:auto;line-height:normal;font-family:Menlo,'DejaVu Sans Mono',consolas,'Courier New',monospace\"><span style=\"font-weight: bold\"> Total params: </span><span style=\"color: #00af00; text-decoration-color: #00af00\">13,529,129</span> (51.61 MB)\n",
              "</pre>\n"
            ],
            "text/plain": [
              "\u001b[1m Total params: \u001b[0m\u001b[38;5;34m13,529,129\u001b[0m (51.61 MB)\n"
            ]
          },
          "metadata": {},
          "output_type": "display_data"
        },
        {
          "data": {
            "text/html": [
              "<pre style=\"white-space:pre;overflow-x:auto;line-height:normal;font-family:Menlo,'DejaVu Sans Mono',consolas,'Courier New',monospace\"><span style=\"font-weight: bold\"> Trainable params: </span><span style=\"color: #00af00; text-decoration-color: #00af00\">13,529,129</span> (51.61 MB)\n",
              "</pre>\n"
            ],
            "text/plain": [
              "\u001b[1m Trainable params: \u001b[0m\u001b[38;5;34m13,529,129\u001b[0m (51.61 MB)\n"
            ]
          },
          "metadata": {},
          "output_type": "display_data"
        },
        {
          "data": {
            "text/html": [
              "<pre style=\"white-space:pre;overflow-x:auto;line-height:normal;font-family:Menlo,'DejaVu Sans Mono',consolas,'Courier New',monospace\"><span style=\"font-weight: bold\"> Non-trainable params: </span><span style=\"color: #00af00; text-decoration-color: #00af00\">0</span> (0.00 B)\n",
              "</pre>\n"
            ],
            "text/plain": [
              "\u001b[1m Non-trainable params: \u001b[0m\u001b[38;5;34m0\u001b[0m (0.00 B)\n"
            ]
          },
          "metadata": {},
          "output_type": "display_data"
        }
      ],
      "source": [
        "model.summary()"
      ]
    },
    {
      "cell_type": "code",
      "execution_count": 79,
      "metadata": {
        "colab": {
          "base_uri": "https://localhost:8080/",
          "height": 1000
        },
        "id": "0nFqa3uPPHHM",
        "outputId": "663a5780-a47d-41fb-8a18-cdb6fbe4d2e7"
      },
      "outputs": [
        {
          "name": "stdout",
          "output_type": "stream",
          "text": [
            "You must install graphviz (see instructions at https://graphviz.gitlab.io/download/) for `plot_model` to work.\n"
          ]
        }
      ],
      "source": [
        "plot_model(model)"
      ]
    },
    {
      "cell_type": "code",
      "execution_count": 80,
      "metadata": {
        "id": "XpWtuQXaPN8w"
      },
      "outputs": [],
      "source": [
        "encode_test = tokenizer.texts_to_sequences(test_data)\n",
        "padded_test = pad_sequences(encode_test,max_len,padding=\"post\")"
      ]
    },
    {
      "cell_type": "code",
      "execution_count": 81,
      "metadata": {
        "colab": {
          "base_uri": "https://localhost:8080/"
        },
        "id": "KeaJAA1gQUPJ",
        "outputId": "5bd9ca27-399b-4284-e557-528c94c26749"
      },
      "outputs": [
        {
          "name": "stdout",
          "output_type": "stream",
          "text": [
            "Epoch 1/10\n",
            "\u001b[1m1250/1250\u001b[0m \u001b[32m━━━━━━━━━━━━━━━━━━━━\u001b[0m\u001b[37m\u001b[0m \u001b[1m333s\u001b[0m 265ms/step - accuracy: 0.8510 - loss: 0.3234 - val_accuracy: 0.9021 - val_loss: 0.2432\n",
            "Epoch 2/10\n",
            "\u001b[1m1250/1250\u001b[0m \u001b[32m━━━━━━━━━━━━━━━━━━━━\u001b[0m\u001b[37m\u001b[0m \u001b[1m383s\u001b[0m 266ms/step - accuracy: 0.9583 - loss: 0.1156 - val_accuracy: 0.8989 - val_loss: 0.2742\n",
            "Epoch 3/10\n",
            "\u001b[1m1250/1250\u001b[0m \u001b[32m━━━━━━━━━━━━━━━━━━━━\u001b[0m\u001b[37m\u001b[0m \u001b[1m334s\u001b[0m 267ms/step - accuracy: 0.9873 - loss: 0.0389 - val_accuracy: 0.8849 - val_loss: 0.3668\n",
            "Epoch 4/10\n",
            "\u001b[1m1250/1250\u001b[0m \u001b[32m━━━━━━━━━━━━━━━━━━━━\u001b[0m\u001b[37m\u001b[0m \u001b[1m405s\u001b[0m 286ms/step - accuracy: 0.9955 - loss: 0.0143 - val_accuracy: 0.8762 - val_loss: 0.5545\n",
            "Epoch 5/10\n",
            "\u001b[1m1250/1250\u001b[0m \u001b[32m━━━━━━━━━━━━━━━━━━━━\u001b[0m\u001b[37m\u001b[0m \u001b[1m355s\u001b[0m 284ms/step - accuracy: 0.9952 - loss: 0.0145 - val_accuracy: 0.8729 - val_loss: 0.6845\n",
            "Epoch 6/10\n",
            "\u001b[1m1250/1250\u001b[0m \u001b[32m━━━━━━━━━━━━━━━━━━━━\u001b[0m\u001b[37m\u001b[0m \u001b[1m381s\u001b[0m 283ms/step - accuracy: 0.9967 - loss: 0.0100 - val_accuracy: 0.8794 - val_loss: 0.7260\n",
            "Epoch 7/10\n",
            "\u001b[1m1250/1250\u001b[0m \u001b[32m━━━━━━━━━━━━━━━━━━━━\u001b[0m\u001b[37m\u001b[0m \u001b[1m359s\u001b[0m 264ms/step - accuracy: 0.9974 - loss: 0.0076 - val_accuracy: 0.8821 - val_loss: 0.8653\n",
            "Epoch 8/10\n",
            "\u001b[1m1250/1250\u001b[0m \u001b[32m━━━━━━━━━━━━━━━━━━━━\u001b[0m\u001b[37m\u001b[0m \u001b[1m386s\u001b[0m 268ms/step - accuracy: 0.9963 - loss: 0.0114 - val_accuracy: 0.8724 - val_loss: 0.7987\n",
            "Epoch 9/10\n",
            "\u001b[1m1250/1250\u001b[0m \u001b[32m━━━━━━━━━━━━━━━━━━━━\u001b[0m\u001b[37m\u001b[0m \u001b[1m360s\u001b[0m 288ms/step - accuracy: 0.9985 - loss: 0.0051 - val_accuracy: 0.8824 - val_loss: 0.7422\n",
            "Epoch 10/10\n",
            "\u001b[1m1250/1250\u001b[0m \u001b[32m━━━━━━━━━━━━━━━━━━━━\u001b[0m\u001b[37m\u001b[0m \u001b[1m330s\u001b[0m 264ms/step - accuracy: 0.9983 - loss: 0.0050 - val_accuracy: 0.8776 - val_loss: 0.8368\n"
          ]
        }
      ],
      "source": [
        "history = model.fit([padded],np.array(train_y),epochs=10,batch_size=32,validation_data=([padded_test],np.array(test_y)))"
      ]
    },
    {
      "cell_type": "code",
      "execution_count": 82,
      "metadata": {
        "colab": {
          "base_uri": "https://localhost:8080/"
        },
        "id": "EUBOGnHOPv77",
        "outputId": "d38b57d0-5fb2-4e1f-a01e-96c6a6e1d42b"
      },
      "outputs": [
        {
          "name": "stdout",
          "output_type": "stream",
          "text": [
            "\u001b[1m313/313\u001b[0m \u001b[32m━━━━━━━━━━━━━━━━━━━━\u001b[0m\u001b[37m\u001b[0m \u001b[1m10s\u001b[0m 33ms/step\n",
            "Precision: 0.8825\n",
            "Recall: 0.8712\n",
            "F1-Score: 0.8768\n"
          ]
        }
      ],
      "source": [
        "test_predictions = (model.predict(padded_test) > 0.5).astype(int).flatten()\n",
        "precision = precision_score(test_y, test_predictions)\n",
        "recall = recall_score(test_y, test_predictions)\n",
        "f1 = f1_score(test_y, test_predictions)\n",
        "cm = confusion_matrix(test_y, test_predictions)\n",
        "\n",
        "print(f\"Precision: {precision:.4f}\")\n",
        "print(f\"Recall: {recall:.4f}\")\n",
        "print(f\"F1-Score: {f1:.4f}\")"
      ]
    },
    {
      "cell_type": "code",
      "execution_count": 83,
      "metadata": {
        "colab": {
          "base_uri": "https://localhost:8080/"
        },
        "id": "UoJArayjPv77",
        "outputId": "2ee4e189-804e-4088-da2b-e0a76fb3cd0e"
      },
      "outputs": [
        {
          "data": {
            "image/png": "[encoded data removed]",
            "text/plain": [
              "<Figure size 600x500 with 1 Axes>"
            ]
          },
          "metadata": {},
          "output_type": "display_data"
        }
      ],
      "source": [
        "plt.figure(figsize=(6,5))\n",
        "sns.heatmap(cm, annot=True, fmt=\"d\", cmap=\"Blues\", cbar=False, \n",
        "            xticklabels=[\"Pred 0\", \"Pred 1\"], \n",
        "            yticklabels=[\"True 0\", \"True 1\"])\n",
        "plt.xlabel(\"Predicted\")\n",
        "plt.ylabel(\"Actual\")\n",
        "plt.title(\"Confusion Matrix\", fontsize=14)\n",
        "plt.show()"
      ]
    },
    {
      "cell_type": "code",
      "execution_count": 84,
      "metadata": {
        "colab": {
          "base_uri": "https://localhost:8080/"
        },
        "id": "hj1HK9ytPv78",
        "outputId": "d1f860ee-7a9d-448d-c7a9-39f953d7f15b"
      },
      "outputs": [
        {
          "name": "stdout",
          "output_type": "stream",
          "text": [
            "              precision    recall  f1-score   support\n",
            "\n",
            "    Negative       0.87      0.88      0.88      5000\n",
            "    Positive       0.88      0.87      0.88      5000\n",
            "\n",
            "    accuracy                           0.88     10000\n",
            "   macro avg       0.88      0.88      0.88     10000\n",
            "weighted avg       0.88      0.88      0.88     10000\n",
            "\n"
          ]
        }
      ],
      "source": [
        "print(classification_report(test_y, test_predictions, target_names=['Negative', 'Positive']))"
      ]
    }
  ],
  "metadata": {
    "accelerator": "GPU",
    "colab": {
      "gpuType": "T4",
      "provenance": []
    },
    "kernelspec": {
      "display_name": "env",
      "language": "python",
      "name": "python3"
    },
    "language_info": {
      "codemirror_mode": {
        "name": "ipython",
        "version": 3
      },
      "file_extension": ".py",
      "mimetype": "text/x-python",
      "name": "python",
      "nbconvert_exporter": "python",
      "pygments_lexer": "ipython3",
      "version": "3.10.10"
    }
  },
  "nbformat": 4,
  "nbformat_minor": 0
}
